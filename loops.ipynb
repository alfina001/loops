{
 "cells": [
  {
   "cell_type": "code",
   "execution_count": 1,
   "id": "285f56db-0603-4a58-bddb-5f73fde1e2af",
   "metadata": {},
   "outputs": [
    {
     "name": "stdout",
     "output_type": "stream",
     "text": [
      "alfina\n",
      "alfina\n",
      "alfina\n",
      "alfina\n",
      "alfina\n",
      "alfina\n"
     ]
    }
   ],
   "source": [
    " for i in range(6):\n",
    "     print('alfina')"
   ]
  },
  {
   "cell_type": "code",
   "execution_count": 2,
   "id": "dce3a93c-7c47-4cf9-a765-77e1834024f8",
   "metadata": {},
   "outputs": [
    {
     "name": "stdout",
     "output_type": "stream",
     "text": [
      "0\n",
      "1\n",
      "3\n",
      "6\n",
      "10\n",
      "15\n",
      "21\n",
      "28\n",
      "36\n",
      "45\n",
      "55\n"
     ]
    }
   ],
   "source": [
    "\n",
    "total=0\n",
    "for i in range(11):\n",
    "    total= total+i\n",
    "    print(total)\n",
    "    "
   ]
  },
  {
   "cell_type": "code",
   "execution_count": 3,
   "id": "59c0d775-48af-4b3f-8eea-a00fd2b9dabf",
   "metadata": {},
   "outputs": [
    {
     "name": "stdout",
     "output_type": "stream",
     "text": [
      "None\n",
      "None\n",
      "None\n",
      "None\n",
      "None\n",
      "None\n",
      "None\n",
      "None\n",
      "None\n",
      "None\n",
      "None\n"
     ]
    }
   ],
   "source": [
    "d=[1,2,3,4,5,6,7,8,9,10]\n",
    "for i in range(11):\n",
    "   print(d.append(11))"
   ]
  },
  {
   "cell_type": "code",
   "execution_count": null,
   "id": "966aa943-7540-49f5-876c-0d4277fa198d",
   "metadata": {},
   "outputs": [],
   "source": [
    "d=[]\n",
    "for i in range(5):\n",
    "    d.append(int(input('append a number to the list :x ')))\n",
    "    print(d)\n",
    "\n"
   ]
  },
  {
   "cell_type": "markdown",
   "id": "f4251782-c2f9-4845-a9b9-cab38ffb7735",
   "metadata": {},
   "source": [
    "## Write a  Python program to find those numbers which are divisible by 7 and multiples of 5, between 1500 and 2700"
   ]
  },
  {
   "cell_type": "code",
   "execution_count": null,
   "id": "42c237ee-1d69-44fe-859d-dd387785e2eb",
   "metadata": {},
   "outputs": [],
   "source": [
    "\n",
    "num_lst=[]\n",
    "for i in range(1500,2701):\n",
    "    if (i%7==0) and (i%5==0):\n",
    "        num_lst.append(i)\n",
    "\n",
    "print(num_lst)\n",
    "    \n",
    "\n"
   ]
  },
  {
   "cell_type": "markdown",
   "id": "422cd8bd-738f-4e3f-b3b2-135bc1f1f983",
   "metadata": {},
   "source": [
    "## Write a  Python program that accepts a word from the user and reverses it. "
   ]
  },
  {
   "cell_type": "code",
   "execution_count": null,
   "id": "3fecdcd7-ac16-450d-92a8-9bbdfeb005d4",
   "metadata": {},
   "outputs": [],
   "source": [
    "a='malayalam'\n",
    "a[::-1]"
   ]
  },
  {
   "cell_type": "markdown",
   "id": "1fd00540-783f-4b6c-8d29-14853f1f7b15",
   "metadata": {},
   "source": [
    "## Write a Python program that iterates the integers from 1 to 50. For multiples of three print \"Fizz\" instead of the number and for multiples of five print \"Buzz\". For numbers that are multiples of three and five, print \"FizzBuzz\". "
   ]
  },
  {
   "cell_type": "code",
   "execution_count": null,
   "id": "fc63d163-5a59-441b-815d-9d0242acb0cf",
   "metadata": {},
   "outputs": [],
   "source": [
    "# integer=[]\n",
    "# integer1 =[]\n",
    "# integer2=[]\n",
    "for i in range(1,51):\n",
    "    if(i%3==0) and (i%5==0):\n",
    "        # integer.append(i)\n",
    "        print('fizz')\n",
    "    elif(i%5==0):\n",
    "         # integer1.append(i)\n",
    "         print('buzz')\n",
    "         continue\n",
    "    elif (i%3==0):\n",
    "          # integer2.append(i)\n",
    "          print('fizz buzz')\n",
    "    else:\n",
    "        print(i)"
   ]
  },
  {
   "cell_type": "markdown",
   "id": "9d8eaa86-612c-4e88-8c38-8c1c8f1c5bb9",
   "metadata": {},
   "source": [
    "## Write a  Python program to convert temperatures to and from Celsius and Fahrenheit.\r\n",
    "[ Formula : c/5 = f-32/9 [ where c = temperature in celsius and f = temperature in fahrenheit ]"
   ]
  },
  {
   "cell_type": "code",
   "execution_count": null,
   "id": "be71576b-f79d-4f28-a22d-2ed8f5a16cb8",
   "metadata": {},
   "outputs": [],
   "source": [
    "temperature=input('enter a  temperature:')\n",
    "if temperature[-1]=='f':\n",
    "        c=(int(temperature[0:2])-32)/9*5\n",
    "        print(c,'c')\n",
    "\n",
    "elif temperature[-1]=='c':\n",
    "        f=(((int(temperature[0:2])+32))*9)/5\n",
    "        print(f,'f')\n",
    "          \n",
    "f=((c+32)*9)/5\n"
   ]
  },
  {
   "cell_type": "code",
   "execution_count": null,
   "id": "d98c63b0-2577-49c7-919b-62336d6a76f9",
   "metadata": {},
   "outputs": [],
   "source": [
    "num=2\n",
    "for i in range(1,11):\n",
    "    print(num,\"x\",i,'=',num*i)\n",
    "\n",
    "    "
   ]
  },
  {
   "cell_type": "code",
   "execution_count": null,
   "id": "52e3aa7b-3ab9-401b-92cd-87370d873a88",
   "metadata": {},
   "outputs": [],
   "source": [
    "d=int(input('enter a number'))\n",
    "for i in range(1,d):\n",
    "    if(i%d==0):\n",
    "        print(d)\n",
    "    else:\n",
    "        break\n",
    "print(d)"
   ]
  },
  {
   "cell_type": "code",
   "execution_count": null,
   "id": "dd44bfe5-9239-449b-a597-b6f5034511a2",
   "metadata": {},
   "outputs": [],
   "source": [
    "d=int(input('enter a number'))\n",
    "fact = 1\n",
    "for i in range(1,d):\n",
    "    fact = fact*i\n",
    "    print(fact)"
   ]
  },
  {
   "cell_type": "code",
   "execution_count": null,
   "id": "a4afcb45-a76b-4c33-91a0-bcbae853a382",
   "metadata": {},
   "outputs": [],
   "source": [
    "\n",
    "a=[1,2,3,4,5,6,7,8,9,10,13,15,42]\n",
    "b_list=[]\n",
    "c_list=[]\n",
    "\n",
    "for i in a:\n",
    "    if(i%2==0):\n",
    "        b_list.append(i)\n",
    "       \n",
    "    else:\n",
    "        c_list.append(i)\n",
    "print(\"even list=\",  b_list)\n",
    "print(\"odd list=\",    c_list)\n"
   ]
  },
  {
   "cell_type": "markdown",
   "id": "568c1f12-8de7-473e-b2f8-16ff259d17dc",
   "metadata": {},
   "source": [
    "## while loop"
   ]
  },
  {
   "cell_type": "code",
   "execution_count": 10,
   "id": "a9b22c5f-877b-40b2-8f17-cf34484191f0",
   "metadata": {},
   "outputs": [
    {
     "name": "stdout",
     "output_type": "stream",
     "text": [
      "0\n",
      "1\n",
      "2\n",
      "3\n",
      "4\n"
     ]
    }
   ],
   "source": [
    "\n",
    "x=0\n",
    "while x<5:\n",
    "    print(x)\n",
    "    x=x+1"
   ]
  },
  {
   "cell_type": "markdown",
   "id": "bf0987a5-0038-4cfc-aa9f-dfe4d4e1e458",
   "metadata": {},
   "source": [
    "### Check how many times a given number can be divided by 3 before it is less than or equal to 10."
   ]
  },
  {
   "cell_type": "code",
   "execution_count": 4,
   "id": "0986da33-8fd8-4b25-993e-610ddf9f784d",
   "metadata": {},
   "outputs": [
    {
     "name": "stdout",
     "output_type": "stream",
     "text": [
      "3\n",
      "6\n",
      "9\n"
     ]
    }
   ],
   "source": [
    "x=1\n",
    "while(x<=10):\n",
    "    if(x%3==0):\n",
    "        print(x)\n",
    "    x=x+1"
   ]
  },
  {
   "cell_type": "markdown",
   "id": "1a446b26-7a75-49f8-b8a7-52873e4e2a48",
   "metadata": {},
   "source": [
    "### Write a  Python program to find those numbers which are divisible by 7 and multiples of 5, between 1500 and 2700 (both included) "
   ]
  },
  {
   "cell_type": "code",
   "execution_count": 2,
   "id": "0ccef011-4b94-4c64-8a26-698f95e7ef00",
   "metadata": {},
   "outputs": [
    {
     "name": "stdout",
     "output_type": "stream",
     "text": [
      "1505\n",
      "1540\n",
      "1575\n",
      "1610\n",
      "1645\n",
      "1680\n",
      "1715\n",
      "1750\n",
      "1785\n",
      "1820\n",
      "1855\n",
      "1890\n",
      "1925\n",
      "1960\n",
      "1995\n",
      "2030\n",
      "2065\n",
      "2100\n",
      "2135\n",
      "2170\n",
      "2205\n",
      "2240\n",
      "2275\n",
      "2310\n",
      "2345\n",
      "2380\n",
      "2415\n",
      "2450\n",
      "2485\n",
      "2520\n",
      "2555\n",
      "2590\n",
      "2625\n",
      "2660\n",
      "2695\n"
     ]
    }
   ],
   "source": [
    "x=1500\n",
    "while(x<=2700):\n",
    "    \n",
    "    if(x%5==0)and(x%7==0):\n",
    "       print(x)\n",
    "    x=x+1"
   ]
  },
  {
   "cell_type": "markdown",
   "id": "73f01058-1d0b-489c-84b2-419a066fc466",
   "metadata": {},
   "source": [
    "###  Write a  Python function to find the maximum of three numbers."
   ]
  },
  {
   "cell_type": "code",
   "execution_count": 8,
   "id": "6bd6ebb3-91a5-43fb-b21b-ba20346ff560",
   "metadata": {},
   "outputs": [],
   "source": [
    "def max(a,b,c):\n",
    "    if(a>b)and(a>c):\n",
    "        print(a)\n",
    "    elif(b>a)and(b>c):\n",
    "        print(b)\n",
    "    elif(c>a)and(c>b):\n",
    "        print(c)\n",
    "        \n",
    "    "
   ]
  },
  {
   "cell_type": "code",
   "execution_count": null,
   "id": "aaf5660a-b24e-477e-92f5-919b7cf9b6ac",
   "metadata": {},
   "outputs": [],
   "source": []
  }
 ],
 "metadata": {
  "kernelspec": {
   "display_name": "Python 3 (ipykernel)",
   "language": "python",
   "name": "python3"
  },
  "language_info": {
   "codemirror_mode": {
    "name": "ipython",
    "version": 3
   },
   "file_extension": ".py",
   "mimetype": "text/x-python",
   "name": "python",
   "nbconvert_exporter": "python",
   "pygments_lexer": "ipython3",
   "version": "3.11.7"
  }
 },
 "nbformat": 4,
 "nbformat_minor": 5
}
